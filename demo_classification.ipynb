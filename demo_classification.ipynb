{
 "cells": [
  {
   "cell_type": "markdown",
   "metadata": {},
   "source": [
    "# Import libraries"
   ]
  },
  {
   "cell_type": "code",
   "execution_count": 1,
   "metadata": {},
   "outputs": [
    {
     "name": "stderr",
     "output_type": "stream",
     "text": [
      "c:\\Users\\adamq\\anaconda3\\envs\\wavetorch\\Lib\\site-packages\\torchaudio\\backend\\utils.py:74: UserWarning: No audio backend is available.\n",
      "  warnings.warn(\"No audio backend is available.\")\n"
     ]
    }
   ],
   "source": [
    "#import python libraries\n",
    "import random\n",
    "from src import wavetorch\n",
    "import torch\n",
    "import numpy as np\n",
    "import torchaudio\n",
    "import json\n",
    "\n",
    "#Visualization libraries\n",
    "from matplotlib import pyplot as plt\n",
    "from matplotlib import cm\n",
    "from matplotlib import colors\n",
    "\n",
    "#Write Libraries\n",
    "from pathlib import Path\n",
    "import pandas as pd"
   ]
  },
  {
   "cell_type": "markdown",
   "metadata": {},
   "source": [
    "# Import data"
   ]
  },
  {
   "cell_type": "code",
   "execution_count": 2,
   "metadata": {},
   "outputs": [],
   "source": [
    "#Configure open paths\n",
    "open_folder = \"exports\"\n",
    "open_path = \"{}\\\\{}\\\\\".format(str(Path.cwd()), open_folder)"
   ]
  },
  {
   "cell_type": "code",
   "execution_count": 3,
   "metadata": {},
   "outputs": [
    {
     "data": {
      "text/plain": [
       "{'dx': 0.5, 'dy': 0.5, 'dt': 0.006666666666666667, 'c': 30, 'N_t': 2400}"
      ]
     },
     "execution_count": 3,
     "metadata": {},
     "output_type": "execute_result"
    }
   ],
   "source": [
    "#Open wave simulation metadata\n",
    "with open(open_path+'data2 metadata.json') as f:\n",
    "    u_metadata=json.load(f)\n",
    "u_metadata"
   ]
  },
  {
   "cell_type": "code",
   "execution_count": 4,
   "metadata": {},
   "outputs": [
    {
     "data": {
      "text/plain": [
       "tensor([[[ 0.0000,  0.0000,  0.0000,  ...,  0.0000,  0.0000,  0.0000],\n",
       "         [ 0.0000,  0.0000,  0.0000,  ...,  0.0000,  0.0000,  0.0000],\n",
       "         [ 0.0000,  0.0000,  0.0000,  ...,  0.0000,  0.0000,  0.0000],\n",
       "         ...,\n",
       "         [ 0.0000,  0.0000,  0.0000,  ...,  0.0000,  0.0000,  0.0000],\n",
       "         [ 0.0000,  0.0000,  0.0000,  ...,  0.0000,  0.0000,  0.0000],\n",
       "         [ 0.0000,  0.0000,  0.0000,  ...,  0.0000,  0.0000,  0.0000]],\n",
       "\n",
       "        [[ 0.0000,  0.0000,  0.0000,  ...,  0.0000,  0.0000,  0.0000],\n",
       "         [ 0.0000,  0.0000,  0.0000,  ...,  0.0000,  0.0000,  0.0000],\n",
       "         [ 0.0000,  0.0000,  0.0000,  ...,  0.0000,  0.0000,  0.0000],\n",
       "         ...,\n",
       "         [ 0.0000,  0.0000,  0.0000,  ...,  0.0000,  0.0000,  0.0000],\n",
       "         [ 0.0000,  0.0000,  0.0000,  ...,  0.0000,  0.0000,  0.0000],\n",
       "         [ 0.0000,  0.0000,  0.0000,  ...,  0.0000,  0.0000,  0.0000]],\n",
       "\n",
       "        [[ 0.0000,  0.0000,  0.0000,  ...,  0.0000,  0.0000,  0.0000],\n",
       "         [ 0.0000,  0.0000,  0.0000,  ...,  0.0000,  0.0000,  0.0000],\n",
       "         [ 0.0000,  0.0000,  0.0000,  ...,  0.0000,  0.0000,  0.0000],\n",
       "         ...,\n",
       "         [ 0.0000,  0.0000,  0.0000,  ...,  0.0000,  0.0000,  0.0000],\n",
       "         [ 0.0000,  0.0000,  0.0000,  ...,  0.0000,  0.0000,  0.0000],\n",
       "         [ 0.0000,  0.0000,  0.0000,  ...,  0.0000,  0.0000,  0.0000]],\n",
       "\n",
       "        ...,\n",
       "\n",
       "        [[ 0.0000,  0.0000,  0.0000,  ...,  0.0000,  0.0000,  0.0000],\n",
       "         [ 0.0000,  0.0001,  0.0029,  ..., -0.0025, -0.0091,  0.0000],\n",
       "         [ 0.0000,  0.0041,  0.0017,  ..., -0.0070, -0.0185,  0.0000],\n",
       "         ...,\n",
       "         [ 0.0000, -0.0103, -0.0041,  ..., -0.0232, -0.0234,  0.0000],\n",
       "         [ 0.0000, -0.0036, -0.0087,  ..., -0.0241, -0.0206,  0.0000],\n",
       "         [ 0.0000,  0.0000,  0.0000,  ...,  0.0000,  0.0000,  0.0000]],\n",
       "\n",
       "        [[ 0.0000,  0.0000,  0.0000,  ...,  0.0000,  0.0000,  0.0000],\n",
       "         [ 0.0000,  0.0034,  0.0012,  ...,  0.0100,  0.0014,  0.0000],\n",
       "         [ 0.0000,  0.0017,  0.0139,  ...,  0.0088, -0.0029,  0.0000],\n",
       "         ...,\n",
       "         [ 0.0000, -0.0092, -0.0100,  ..., -0.0152, -0.0079,  0.0000],\n",
       "         [ 0.0000, -0.0064, -0.0104,  ..., -0.0228, -0.0141,  0.0000],\n",
       "         [ 0.0000,  0.0000,  0.0000,  ...,  0.0000,  0.0000,  0.0000]],\n",
       "\n",
       "        [[ 0.0000,  0.0000,  0.0000,  ...,  0.0000,  0.0000,  0.0000],\n",
       "         [ 0.0000,  0.0050,  0.0034,  ...,  0.0191,  0.0122,  0.0000],\n",
       "         [ 0.0000,  0.0024,  0.0215,  ...,  0.0199,  0.0139,  0.0000],\n",
       "         ...,\n",
       "         [ 0.0000, -0.0065, -0.0179,  ...,  0.0004,  0.0095,  0.0000],\n",
       "         [ 0.0000, -0.0082, -0.0105,  ..., -0.0133, -0.0034,  0.0000],\n",
       "         [ 0.0000,  0.0000,  0.0000,  ...,  0.0000,  0.0000,  0.0000]]],\n",
       "       device='cuda:0')"
      ]
     },
     "execution_count": 4,
     "metadata": {},
     "output_type": "execute_result"
    }
   ],
   "source": [
    "#Open numpy array to torch tensor\n",
    "u_tensor = torch.load(open_path + 'data2.pt')\n",
    "u_tensor"
   ]
  },
  {
   "cell_type": "code",
   "execution_count": 5,
   "metadata": {},
   "outputs": [
    {
     "data": {
      "text/plain": [
       "torch.Size([2402, 480, 640])"
      ]
     },
     "execution_count": 5,
     "metadata": {},
     "output_type": "execute_result"
    }
   ],
   "source": [
    "#Get dimensions\n",
    "N_t = u_tensor.shape[0]\n",
    "N_x = u_tensor.shape[1]\n",
    "N_y = u_tensor.shape[2]\n",
    "t_array = np.linspace(0, N_t*u_metadata['dt'], N_t)\n",
    "u_tensor.shape"
   ]
  },
  {
   "cell_type": "markdown",
   "metadata": {},
   "source": [
    "# Label and Format Data"
   ]
  },
  {
   "cell_type": "code",
   "execution_count": 6,
   "metadata": {},
   "outputs": [
    {
     "data": {
      "text/plain": [
       "[(296, 468),\n",
       " (70, 216),\n",
       " (7, 241),\n",
       " (48, 144),\n",
       " (453, 88),\n",
       " (402, 372),\n",
       " (73, 336),\n",
       " (389, 158),\n",
       " (16, 422),\n",
       " (324, 62),\n",
       " (349, 41),\n",
       " (227, 605),\n",
       " (231, 13),\n",
       " (429, 550),\n",
       " (327, 248),\n",
       " (185, 441),\n",
       " (6, 84),\n",
       " (186, 34),\n",
       " (213, 616),\n",
       " (249, 390),\n",
       " (456, 432),\n",
       " (133, 160),\n",
       " (252, 71),\n",
       " (334, 109),\n",
       " (187, 153),\n",
       " (422, 560),\n",
       " (330, 110),\n",
       " (145, 6),\n",
       " (7, 528),\n",
       " (329, 1),\n",
       " (314, 268),\n",
       " (236, 484),\n",
       " (439, 54),\n",
       " (414, 323),\n",
       " (295, 220),\n",
       " (383, 322),\n",
       " (303, 90),\n",
       " (358, 460),\n",
       " (59, 103),\n",
       " (82, 196),\n",
       " (224, 527),\n",
       " (302, 255),\n",
       " (189, 289),\n",
       " (204, 246),\n",
       " (20, 165),\n",
       " (419, 422),\n",
       " (72, 168),\n",
       " (165, 548),\n",
       " (339, 545),\n",
       " (45, 287),\n",
       " (309, 86),\n",
       " (450, 326),\n",
       " (235, 236),\n",
       " (369, 537),\n",
       " (92, 70),\n",
       " (133, 224),\n",
       " (328, 143),\n",
       " (366, 618),\n",
       " (110, 240),\n",
       " (95, 190),\n",
       " (430, 207),\n",
       " (385, 44),\n",
       " (79, 55),\n",
       " (464, 362),\n",
       " (362, 350),\n",
       " (368, 487),\n",
       " (307, 393),\n",
       " (344, 107),\n",
       " (451, 532),\n",
       " (387, 482),\n",
       " (458, 140),\n",
       " (280, 499),\n",
       " (241, 342),\n",
       " (56, 613),\n",
       " (211, 529),\n",
       " (72, 478),\n",
       " (235, 255),\n",
       " (318, 302),\n",
       " (342, 187),\n",
       " (238, 311),\n",
       " (388, 218),\n",
       " (25, 420),\n",
       " (353, 366),\n",
       " (44, 250),\n",
       " (314, 333),\n",
       " (347, 575),\n",
       " (446, 505),\n",
       " (393, 248),\n",
       " (201, 135),\n",
       " (300, 475),\n",
       " (429, 300),\n",
       " (72, 169),\n",
       " (385, 394),\n",
       " (81, 226),\n",
       " (56, 441),\n",
       " (360, 198),\n",
       " (75, 230),\n",
       " (334, 8),\n",
       " (454, 302),\n",
       " (352, 71)]"
      ]
     },
     "execution_count": 6,
     "metadata": {},
     "output_type": "execute_result"
    }
   ],
   "source": [
    "#Get a list of all possible coordinates in u_tensor\n",
    "#Initialize list\n",
    "u_tensor_coordinates=[]\n",
    "#Loop through the x and y axes of u_tensor\n",
    "for i in range(0, N_x):\n",
    "    for j in range(0, N_y):\n",
    "        u_tensor_coordinates += [(i,j)]\n",
    "\n",
    "#Take random coordinates\n",
    "u_tensor_coordinates = random.choices(u_tensor_coordinates, k=100)\n",
    "u_tensor_coordinates"
   ]
  },
  {
   "cell_type": "code",
   "execution_count": 7,
   "metadata": {},
   "outputs": [
    {
     "data": {
      "text/html": [
       "<div>\n",
       "<style scoped>\n",
       "    .dataframe tbody tr th:only-of-type {\n",
       "        vertical-align: middle;\n",
       "    }\n",
       "\n",
       "    .dataframe tbody tr th {\n",
       "        vertical-align: top;\n",
       "    }\n",
       "\n",
       "    .dataframe thead th {\n",
       "        text-align: right;\n",
       "    }\n",
       "</style>\n",
       "<table border=\"1\" class=\"dataframe\">\n",
       "  <thead>\n",
       "    <tr style=\"text-align: right;\">\n",
       "      <th></th>\n",
       "      <th>distance_from_(160, 213)</th>\n",
       "      <th>distance_from_(240, 320)</th>\n",
       "    </tr>\n",
       "  </thead>\n",
       "  <tbody>\n",
       "    <tr>\n",
       "      <th>(296, 468)</th>\n",
       "      <td>289.000000</td>\n",
       "      <td>158.240324</td>\n",
       "    </tr>\n",
       "    <tr>\n",
       "      <th>(70, 216)</th>\n",
       "      <td>90.049986</td>\n",
       "      <td>199.288735</td>\n",
       "    </tr>\n",
       "    <tr>\n",
       "      <th>(7, 241)</th>\n",
       "      <td>155.540991</td>\n",
       "      <td>246.028454</td>\n",
       "    </tr>\n",
       "    <tr>\n",
       "      <th>(48, 144)</th>\n",
       "      <td>131.548470</td>\n",
       "      <td>260.461130</td>\n",
       "    </tr>\n",
       "    <tr>\n",
       "      <th>(453, 88)</th>\n",
       "      <td>318.549839</td>\n",
       "      <td>314.949202</td>\n",
       "    </tr>\n",
       "    <tr>\n",
       "      <th>...</th>\n",
       "      <td>...</td>\n",
       "      <td>...</td>\n",
       "    </tr>\n",
       "    <tr>\n",
       "      <th>(360, 198)</th>\n",
       "      <td>200.561711</td>\n",
       "      <td>171.125685</td>\n",
       "    </tr>\n",
       "    <tr>\n",
       "      <th>(75, 230)</th>\n",
       "      <td>86.683332</td>\n",
       "      <td>187.949461</td>\n",
       "    </tr>\n",
       "    <tr>\n",
       "      <th>(334, 8)</th>\n",
       "      <td>268.888453</td>\n",
       "      <td>325.852727</td>\n",
       "    </tr>\n",
       "    <tr>\n",
       "      <th>(454, 302)</th>\n",
       "      <td>307.175845</td>\n",
       "      <td>214.755675</td>\n",
       "    </tr>\n",
       "    <tr>\n",
       "      <th>(352, 71)</th>\n",
       "      <td>238.805360</td>\n",
       "      <td>273.029302</td>\n",
       "    </tr>\n",
       "  </tbody>\n",
       "</table>\n",
       "<p>100 rows × 2 columns</p>\n",
       "</div>"
      ],
      "text/plain": [
       "            distance_from_(160, 213)  distance_from_(240, 320)\n",
       "(296, 468)                289.000000                158.240324\n",
       "(70, 216)                  90.049986                199.288735\n",
       "(7, 241)                  155.540991                246.028454\n",
       "(48, 144)                 131.548470                260.461130\n",
       "(453, 88)                 318.549839                314.949202\n",
       "...                              ...                       ...\n",
       "(360, 198)                200.561711                171.125685\n",
       "(75, 230)                  86.683332                187.949461\n",
       "(334, 8)                  268.888453                325.852727\n",
       "(454, 302)                307.175845                214.755675\n",
       "(352, 71)                 238.805360                273.029302\n",
       "\n",
       "[100 rows x 2 columns]"
      ]
     },
     "execution_count": 7,
     "metadata": {},
     "output_type": "execute_result"
    }
   ],
   "source": [
    "#Generate dataframe containing labels\n",
    "df_labels = wavetorch.generate_labels(u_tensor=u_tensor,\n",
    "                                      source_coordinates=[(int(N_x/3),int(N_y/3)), (int(N_x/2),int(N_y/2))],\n",
    "                                      loc_coordinates=u_tensor_coordinates)\n",
    "df_labels"
   ]
  },
  {
   "cell_type": "code",
   "execution_count": null,
   "metadata": {},
   "outputs": [],
   "source": []
  }
 ],
 "metadata": {
  "kernelspec": {
   "display_name": "wavetorch",
   "language": "python",
   "name": "python3"
  },
  "language_info": {
   "codemirror_mode": {
    "name": "ipython",
    "version": 3
   },
   "file_extension": ".py",
   "mimetype": "text/x-python",
   "name": "python",
   "nbconvert_exporter": "python",
   "pygments_lexer": "ipython3",
   "version": "3.11.3"
  },
  "orig_nbformat": 4
 },
 "nbformat": 4,
 "nbformat_minor": 2
}
